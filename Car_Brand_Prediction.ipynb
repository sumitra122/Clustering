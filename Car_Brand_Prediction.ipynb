{
  "nbformat": 4,
  "nbformat_minor": 0,
  "metadata": {
    "colab": {
      "name": "Car_Brand_Prediction",
      "provenance": [],
      "authorship_tag": "ABX9TyP1CPVaoFL9BHp7dFVrX+qC",
      "include_colab_link": true
    },
    "kernelspec": {
      "name": "python3",
      "display_name": "Python 3"
    }
  },
  "cells": [
    {
      "cell_type": "markdown",
      "metadata": {
        "id": "view-in-github",
        "colab_type": "text"
      },
      "source": [
        "<a href=\"https://colab.research.google.com/github/sumitra122/Clustering/blob/master/Car_Brand_Prediction.ipynb\" target=\"_parent\"><img src=\"https://colab.research.google.com/assets/colab-badge.svg\" alt=\"Open In Colab\"/></a>"
      ]
    },
    {
      "cell_type": "markdown",
      "metadata": {
        "id": "pENMUBXuuLJN",
        "colab_type": "text"
      },
      "source": [
        "# **K-Means Clusturing**"
      ]
    },
    {
      "cell_type": "markdown",
      "metadata": {
        "id": "eSvRGhaOtLIU",
        "colab_type": "text"
      },
      "source": [
        "## Importing libraries"
      ]
    },
    {
      "cell_type": "code",
      "metadata": {
        "id": "WaNY1tMVU18O",
        "colab_type": "code",
        "colab": {}
      },
      "source": [
        "import numpy as np\n",
        "import matplotlib.pyplot as plt\n",
        "import pandas as pd"
      ],
      "execution_count": 57,
      "outputs": []
    },
    {
      "cell_type": "markdown",
      "metadata": {
        "id": "kv5qlsO-tVMt",
        "colab_type": "text"
      },
      "source": [
        "## Importing dataset"
      ]
    },
    {
      "cell_type": "code",
      "metadata": {
        "id": "W4gSFeLEVF-P",
        "colab_type": "code",
        "colab": {}
      },
      "source": [
        "dataset = pd.read_csv('datasets_951_1740_cars.csv')\n",
        "x = dataset.iloc[:, [5, 6]].values"
      ],
      "execution_count": 66,
      "outputs": []
    },
    {
      "cell_type": "markdown",
      "metadata": {
        "id": "o7l6ST_FtdHD",
        "colab_type": "text"
      },
      "source": [
        "## Using the elbow method to find  the optimal number of clusters"
      ]
    },
    {
      "cell_type": "code",
      "metadata": {
        "id": "WXkDpO20VbIY",
        "colab_type": "code",
        "colab": {
          "base_uri": "https://localhost:8080/",
          "height": 295
        },
        "outputId": "0dc818d9-345a-4bbb-a3e0-3f91cbfa57c9"
      },
      "source": [
        "from sklearn.cluster import KMeans\n",
        "wcss = []\n",
        "for i in range(1, 11):\n",
        "  kmeans = KMeans(n_clusters=i, init='k-means++', random_state= 42)\n",
        "  kmeans.fit(x)\n",
        "  wcss.append(kmeans.inertia_)\n",
        "plt.plot(range(1, 11), wcss)\n",
        "plt.title('Elbow Method')\n",
        "plt.xlabel('Number of clusters')\n",
        "plt.ylabel('wcss')\n",
        "plt.show()"
      ],
      "execution_count": 67,
      "outputs": [
        {
          "output_type": "display_data",
          "data": {
            "image/png": "[encoded data removed]",
            "text/plain": [
              "<Figure size 432x288 with 1 Axes>"
            ]
          },
          "metadata": {
            "tags": [],
            "needs_background": "light"
          }
        }
      ]
    },
    {
      "cell_type": "markdown",
      "metadata": {
        "id": "eapPCrWJtox8",
        "colab_type": "text"
      },
      "source": [
        "## Traning the model into dataset"
      ]
    },
    {
      "cell_type": "code",
      "metadata": {
        "id": "FUz6b4z_W-xa",
        "colab_type": "code",
        "colab": {}
      },
      "source": [
        "kmeans = KMeans(n_clusters=3, init='k-means++', random_state= 42)\n",
        "y_kmeans = kmeans.fit_predict(x)"
      ],
      "execution_count": 68,
      "outputs": []
    },
    {
      "cell_type": "code",
      "metadata": {
        "id": "hwbAxLS3h_cQ",
        "colab_type": "code",
        "colab": {
          "base_uri": "https://localhost:8080/",
          "height": 150
        },
        "outputId": "f4d4d71f-8349-4989-9106-593976ae68f0"
      },
      "source": [
        "print(y_kmeans)"
      ],
      "execution_count": 69,
      "outputs": [
        {
          "output_type": "stream",
          "text": [
            "[1 2 1 1 2 2 1 1 2 2 2 2 1 1 2 2 2 1 0 1 2 2 0 2 2 0 0 1 0 2 1 0 1 1 2 2 0\n",
            " 2 2 2 0 0 0 2 1 2 1 0 2 2 1 2 1 0 1 1 0 2 1 1 0 0 2 2 0 2 0 2 1 2 0 2 0 0\n",
            " 0 2 0 2 0 2 1 1 2 0 0 0 0 2 0 2 2 2 1 0 0 0 1 1 2 0 1 1 0 2 2 2 2 1 1 1 0\n",
            " 1 2 0 2 0 2 0 2 1 0 0 1 2 0 1 1 2 1 2 0 2 1 1 1 1 0 1 0 0 2 0 2 2 2 0 2 2\n",
            " 1 1 2 2 1 0 0 0 1 2 1 2 2 2 0 0 0 2 0 2 1 2 2 2 0 2 0 0 1 1 2 2 2 2 1 1 2\n",
            " 2 0 1 1 1 2 2 1 1 1 2 2 2 1 2 1 0 2 2 0 1 2 0 1 2 2 2 2 0 0 2 2 1 2 2 0 2\n",
            " 1 0 0 0 1 0 0 2 1 2 0 0 0 2 1 2 2 1 1 0 1 0 1 1 2 2 0 2 2 1 2 1 2 1 2 2 2\n",
            " 0 0]\n"
          ],
          "name": "stdout"
        }
      ]
    },
    {
      "cell_type": "markdown",
      "metadata": {
        "id": "7hbDlKWbt0Ky",
        "colab_type": "text"
      },
      "source": [
        "## Visualizing the model"
      ]
    },
    {
      "cell_type": "code",
      "metadata": {
        "id": "BQqv_-l9iRKQ",
        "colab_type": "code",
        "colab": {
          "base_uri": "https://localhost:8080/",
          "height": 281
        },
        "outputId": "2882a5ea-58a2-4d27-94e2-b90a8828db86"
      },
      "source": [
        "plt.scatter(x[y_kmeans == 0, 0], x[y_kmeans == 0,1],s=100,c='red',label='US')\n",
        "plt.scatter(x[y_kmeans == 1, 0], x[y_kmeans == 1,1],s=100,c='blue',label='Japan')\n",
        "plt.scatter(x[y_kmeans == 2, 0], x[y_kmeans == 2,1],s=100,c='green',label='Europe')\n",
        "plt.scatter(kmeans.cluster_centers_[:,0],kmeans.cluster_centers_[:,1],s=300,c='yellow',label='Centroids')\n",
        "plt.title('Clusters of car brands')\n",
        "plt.legend()\n",
        "plt.show()"
      ],
      "execution_count": 70,
      "outputs": [
        {
          "output_type": "display_data",
          "data": {
            "image/png": "[encoded data removed]",
            "text/plain": [
              "<Figure size 432x288 with 1 Axes>"
            ]
          },
          "metadata": {
            "tags": [],
            "needs_background": "light"
          }
        }
      ]
    }
  ]
}